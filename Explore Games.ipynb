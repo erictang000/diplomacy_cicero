{
 "cells": [
  {
   "cell_type": "code",
   "execution_count": 1,
   "id": "a49c8f0c",
   "metadata": {},
   "outputs": [],
   "source": [
    "import json\n",
    "import os\n",
    "from parlai_diplomacy.utils.game2seq.factory import get_input_format, sequence_formatter_factory\n",
    "\n",
    "from parlai_diplomacy.utils.game2seq.format_helpers.message_history import MessageHistoryBuilder\n",
    "from fairdiplomacy.pydipcc import Game\n",
    "from fairdiplomacy.typedefs import Power, GameJson\n",
    "from parlai_diplomacy.utils.game2seq.format_helpers.misc import organize_game_by_phase\n",
    "from parlai_diplomacy.utils.game2seq.dialogue_prediction import (\n",
    "    DialoguePredictionFormatter,\n",
    "    TrainingDialoguePredictionFormatter,\n",
    ")\n",
    "from fairdiplomacy.models.consts import POWERS\n",
    "\n",
    "from parlai_diplomacy.utils.game2seq.typing import Metadata\n",
    "\n"
   ]
  },
  {
   "cell_type": "code",
   "execution_count": 8,
   "id": "b6db6dde",
   "metadata": {},
   "outputs": [],
   "source": [
    "# ENGLAND = \"ENGLAND\"\n",
    "# RUSSIA = \"RUSSIA\"\n",
    "# PHASE = \"W1902A\"\n",
    "def load_game():\n",
    "#     fle = \"./data/cicero_redacted_games/game_436345_RUSSIA_AEFGIT.json\"\n",
    "    fle = \"/data/eric_tang/diplomacy_experiments/results/diplomacy/adhoc/2023-04-14T042044.311663/c01_ag_cmp/cmp/Iag@agents_cicero.prototxt@Iag@agents_cicero.prototxt@pow@TURKEY_1d00781c/output.json\"\n",
    "\n",
    "    with open(fle, \"r\") as f:\n",
    "        game_json = json.load(f)\n",
    "    with open(fle, \"r\") as f:\n",
    "        game_object = Game.from_json(f.read())\n",
    "    # roll forward to the next phase\n",
    "    last_phase_orders = game_json[\"phases\"][-1][\"orders\"]\n",
    "    for pwr, orders in last_phase_orders.items():\n",
    "        game_object.set_orders(pwr, orders)\n",
    "    game_object.process()\n",
    "\n",
    "    return game_object\n"
   ]
  },
  {
   "cell_type": "code",
   "execution_count": 9,
   "id": "07af8f7a",
   "metadata": {},
   "outputs": [],
   "source": [
    "def _get_sequences(task_name: str, metadata: Metadata = None, **metadata_kwargs):\n",
    "    game = load_game()\n",
    "    input_format = get_input_format(task_name)\n",
    "    if metadata is None:\n",
    "        metadata = _get_metadata(**metadata_kwargs, task=task_name)\n",
    "    seqs = TrainingDialoguePredictionFormatter(version=1).change_format(\n",
    "        game, input_format, metadata\n",
    "    )\n",
    "    return seqs\n",
    "\n",
    "def _get_metadata(\n",
    "        include_player_ratings: bool = True,\n",
    "        include_player_chattiness: bool = True,\n",
    "        task: str = \"\",\n",
    "    ):\n",
    "        game_id = 2\n",
    "        metadata = {\n",
    "            \"game_id\": game_id,\n",
    "            \"pseudo_orders\": {},\n",
    "            \"power_metadata\": {},\n",
    "            \"opt\": {\n",
    "                \"include_player_ratings\": include_player_ratings,\n",
    "                \"include_player_chattiness\": include_player_chattiness,\n",
    "                \"task\": task,\n",
    "                \"extend_state_history_since_last_n_movement_phase\": 0,\n",
    "            },\n",
    "        }\n",
    "#         pso = \"England: A LVP - YOR; F EDI - NTH; F LON - ENG [EO_O]\\nFrance: A MAR - SPA; A PAR - BUR; F BRE - MAO [EO_O]\\nItaly: A ROM - VEN; A VEN - TYR; F NAP - ION [EO_O]\\nGermany: A BER - KIE; A MUN - RUH; F KIE - DEN [EO_O]\\nTurkey: A CON - BUL; A SMY - CON; F ANK - BLA [EO_O]\\nRussia: A MOS - UKR; A WAR H; F SEV - BLA; F STP/SC - BOT [EO_O]\\nAustria: A BUD - SER; A VIE - BUD; F TRI - ALB [EO_O]\"\n",
    "#         for ph in (MOVEMENT_PHASE, MOVEMENT_PHASE_2, PHASE, MOVEMENT_PHASE_3):\n",
    "#             for pow in range(1, 8):\n",
    "#                 for i in range(1, 10):\n",
    "#                     k = f\"{game_id}-{ph}-{pow}-{i}\"\n",
    "#                     metadata[\"pseudo_orders\"][k] = pso\n",
    "        for power in POWERS:\n",
    "            metadata[\"power_metadata\"][power] = {\"rating\": 1, \"chattiness\": 1}\n",
    "\n",
    "        return metadata"
   ]
  },
  {
   "cell_type": "code",
   "execution_count": 10,
   "id": "b4e264b2",
   "metadata": {},
   "outputs": [],
   "source": [
    "seqs = _get_sequences(\"message_history_orderhistorysincelastmovementphase_state_pseudoorder_dialogue_chunk\")"
   ]
  },
  {
   "cell_type": "code",
   "execution_count": 13,
   "id": "17e796bd",
   "metadata": {},
   "outputs": [
    {
     "data": {
      "text/plain": [
       "dict_keys(['S1901M', 'F1901M', 'W1901A', 'S1902M', 'F1902M', 'F1902R', 'W1902A', 'S1903M', 'S1903R', 'F1903M', 'F1903R', 'W1903A', 'S1904M', 'F1904M', 'F1904R', 'W1904A', 'S1905M', 'S1905R', 'F1905M', 'F1905R', 'W1905A', 'S1906M', 'F1906M', 'F1906R', 'W1906A', 'S1907M', 'S1907R', 'F1907M', 'F1907R', 'W1907A', 'S1908M', 'S1908R', 'F1908M', 'F1908R', 'W1908A', 'S1909M', 'S1909R', 'F1909M', 'F1909R', 'W1909A', 'S1910M'])"
      ]
     },
     "execution_count": 13,
     "metadata": {},
     "output_type": "execute_result"
    }
   ],
   "source": []
  },
  {
   "cell_type": "code",
   "execution_count": 33,
   "id": "b7a296d3",
   "metadata": {
    "scrolled": false
   },
   "outputs": [
    {
     "data": {
      "text/plain": [
       "'S1905M\\nItaly -> Russia: Would you be fine with me in Smyrna? [EO_M]'"
      ]
     },
     "execution_count": 33,
     "metadata": {},
     "output_type": "execute_result"
    }
   ],
   "source": [
    "seqs[\"S1905M\"][\"ITALY\"][0][\"output\"]"
   ]
  },
  {
   "cell_type": "code",
   "execution_count": 74,
   "id": "227acf70",
   "metadata": {},
   "outputs": [
    {
     "data": {
      "text/plain": [
       "'S1906M\\nFrance -> Russia: Well played to you man, not over yet but very good strategic play [EO_M]'"
      ]
     },
     "execution_count": 74,
     "metadata": {},
     "output_type": "execute_result"
    }
   ],
   "source": [
    "seqs[\"S1906M\"][\"FRANCE\"][0][\"output\"]"
   ]
  },
  {
   "cell_type": "code",
   "execution_count": 55,
   "id": "1536cfbe",
   "metadata": {},
   "outputs": [
    {
     "data": {
      "text/plain": [
       "dict_keys(['S1901M', 'F1901M', 'W1901A', 'S1902M', 'S1902R', 'F1902M', 'F1902R', 'W1902A', 'S1903M', 'S1903R', 'F1903M', 'F1903R', 'W1903A', 'S1904M', 'S1904R', 'F1904M', 'F1904R', 'W1904A', 'S1905M', 'S1905R', 'F1905M', 'F1905R', 'W1905A', 'S1906M', 'S1906R', 'F1906M', 'F1906R', 'W1906A', 'S1907M', 'S1907R', 'F1907M', 'F1907R', 'W1907A', 'S1908M', 'F1908M', 'F1908R', 'W1908A', 'S1909M', 'F1909M'])"
      ]
     },
     "execution_count": 55,
     "metadata": {},
     "output_type": "execute_result"
    }
   ],
   "source": [
    "seqs.keys()\n"
   ]
  },
  {
   "cell_type": "code",
   "execution_count": 54,
   "id": "8e0f0c2f",
   "metadata": {},
   "outputs": [
    {
     "data": {
      "text/plain": [
       "'S1901M\\nFrance -> Russia: I like the sound of it! [EO_M]'"
      ]
     },
     "execution_count": 54,
     "metadata": {},
     "output_type": "execute_result"
    }
   ],
   "source": [
    "seqs[\"S1901M\"][\"FRANCE\"][0][\"output\"]\n"
   ]
  },
  {
   "cell_type": "code",
   "execution_count": 22,
   "id": "fc79664d",
   "metadata": {},
   "outputs": [
    {
     "data": {
      "text/plain": [
       "dict_keys(['id', 'is_full_press', 'map', 'phases', 'scoring_system', 'version'])"
      ]
     },
     "execution_count": 22,
     "metadata": {},
     "output_type": "execute_result"
    }
   ],
   "source": [
    "game = Game.from_json(open(\"./data/cicero_redacted_games/game_433762_ITALY_AEFT.json\").read())\n",
    "\n",
    "game_json.keys()"
   ]
  },
  {
   "cell_type": "code",
   "execution_count": null,
   "id": "066190fb",
   "metadata": {},
   "outputs": [],
   "source": []
  }
 ],
 "metadata": {
  "kernelspec": {
   "display_name": "Python 3 (ipykernel)",
   "language": "python",
   "name": "python3"
  },
  "language_info": {
   "codemirror_mode": {
    "name": "ipython",
    "version": 3
   },
   "file_extension": ".py",
   "mimetype": "text/x-python",
   "name": "python",
   "nbconvert_exporter": "python",
   "pygments_lexer": "ipython3",
   "version": "3.7.13"
  }
 },
 "nbformat": 4,
 "nbformat_minor": 5
}
